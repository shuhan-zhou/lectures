{
 "cells": [
  {
   "cell_type": "code",
   "execution_count": null,
   "metadata": {
    "collapsed": true
   },
   "outputs": [],
   "source": [
    "# Programmer lingo!\n",
    "# call - to run a function or method\n",
    "# method - for our intents and purposes, use interchangeably with function\n",
    "# class - a 'type' of object, like Dogs\n",
    "# instance - a specific... instance (sorry) of a class. A class is in general and an instance is this specific one.\n",
    "              # like if Dog is a class, my dog Tango is a specific instance of that class. "
   ]
  },
  {
   "cell_type": "code",
   "execution_count": 2,
   "metadata": {},
   "outputs": [],
   "source": [
    "class Student():\n",
    "\n",
    "    def __init__(self, name, year, hometown,age):\n",
    "\n",
    "        self.name = name\n",
    "        self.year = year\n",
    "        self.hometown = hometown\n",
    "        self.age = age\n",
    "\n",
    "\n",
    "    def update_age(self):\n",
    "        self.age +=1\n",
    "\n",
    "    def __repr__(self):\n",
    "\n",
    "        return 'Student: {0}, Graduation Year: {1}, From: {2}, Age: {3}'.format(self.name, self.year, self.hometown, self.age)"
   ]
  },
  {
   "cell_type": "code",
   "execution_count": 3,
   "metadata": {},
   "outputs": [],
   "source": [
    "new_student = Student('Grace Lee', 2018, 'Providence, Rhode Island', 27)"
   ]
  },
  {
   "cell_type": "code",
   "execution_count": 4,
   "metadata": {},
   "outputs": [
    {
     "data": {
      "text/plain": [
       "Student: Grace Lee, Graduation Year: 2018, From: Providence, Rhode Island, Age: 27"
      ]
     },
     "execution_count": 4,
     "metadata": {},
     "output_type": "execute_result"
    }
   ],
   "source": [
    "new_student"
   ]
  },
  {
   "cell_type": "code",
   "execution_count": 5,
   "metadata": {},
   "outputs": [],
   "source": [
    "new_student.update_age()"
   ]
  },
  {
   "cell_type": "code",
   "execution_count": 6,
   "metadata": {},
   "outputs": [
    {
     "data": {
      "text/plain": [
       "Student: Grace Lee, Graduation Year: 2018, From: Providence, Rhode Island, Age: 28"
      ]
     },
     "execution_count": 6,
     "metadata": {},
     "output_type": "execute_result"
    }
   ],
   "source": [
    "new_student"
   ]
  },
  {
   "cell_type": "code",
   "execution_count": null,
   "metadata": {
    "collapsed": true
   },
   "outputs": [],
   "source": [
    "class Animal():\n",
    "    '''\n",
    "    A class to be used as a superclass for different types of animals\n",
    "    '''\n",
    "    \n",
    "    # A class variable for what type of sounds the animals make!\n",
    "    # The default is no sound.\n",
    "    sound = None\n",
    "\n",
    "    # A 'constructor': what's that?\n",
    "    # The thing that gets run whenever you make a new object of the class\n",
    "    # usually sets the instance variables to the values passed\n",
    "    def __init__(self, name):\n",
    "        '''\n",
    "        Constructor. Sets the animal's name\n",
    "        '''\n",
    "        self.name = name\n",
    "    \n",
    "    # A class method/function!\n",
    "    def make_sound(self):\n",
    "        '''\n",
    "        Makes the animal make its sound. (prints it)\n",
    "        '''\n",
    "        print(self.sound)\n",
    "    \n",
    "\n",
    "class Dog(Animal):\n",
    "    '''\n",
    "    Subclass of animal for the canis familiaris\n",
    "    '''\n",
    "    # A subclass of Animal!\n",
    "\n",
    "    # What does the dog say?\n",
    "    sound = \"woof\"\n",
    "\n",
    "    # A constructor for the dog!\n",
    "    def __init__(self, name, owner):\n",
    "        # A dog is an animal! Here it calls its parent constructor (which we know sets the name)\n",
    "        super().__init__(name)\n",
    "        \n",
    "        # We could set some other dog-specific instance variables here!\n",
    "        self.owner = owner\n",
    "\n",
    "\n",
    "\n",
    "class Duck(Animal):\n",
    "    # Another type of animal!\n",
    "\n",
    "    def __init__(self, name):\n",
    "        super().__init__(name)\n",
    "    \n",
    "    #What does the duck say?\n",
    "    sound = \"quack\""
   ]
  },
  {
   "cell_type": "code",
   "execution_count": null,
   "metadata": {},
   "outputs": [],
   "source": [
    "# Now we can make a dog\n",
    "my_dog = Dog(\"Tango\", \"Victor\")\n",
    "print(my_dog.owner) #Accessing an object's attributes"
   ]
  },
  {
   "cell_type": "code",
   "execution_count": null,
   "metadata": {},
   "outputs": [],
   "source": [
    "# And calling an object's methods. \n",
    "# where is make_sound defined? what class is my_dog?\n",
    "my_dog.make_sound()"
   ]
  },
  {
   "cell_type": "code",
   "execution_count": null,
   "metadata": {},
   "outputs": [],
   "source": [
    "# Let's have several animals\n",
    "rescue_animals = [my_dog]\n",
    "rescue_animals.append(Dog(\"Fido\", \"Charlie\"))\n",
    "rescue_animals.append(Duck(\"Daffy\"))\n",
    "print(rescue_animals)"
   ]
  },
  {
   "cell_type": "code",
   "execution_count": null,
   "metadata": {},
   "outputs": [],
   "source": [
    "for animal in rescue_animals:\n",
    "    animal.make_sound()\n",
    "\n",
    "# I can do animal.make_sound() since I know all the elements of the list are either Dogs or Ducks and both\n",
    "# of those inherit from Animal, which declares make_sound()"
   ]
  }
 ],
 "metadata": {
  "kernelspec": {
   "display_name": "Python 3",
   "language": "python",
   "name": "python3"
  },
  "language_info": {
   "codemirror_mode": {
    "name": "ipython",
    "version": 3
   },
   "file_extension": ".py",
   "mimetype": "text/x-python",
   "name": "python",
   "nbconvert_exporter": "python",
   "pygments_lexer": "ipython3",
   "version": "3.6.2"
  }
 },
 "nbformat": 4,
 "nbformat_minor": 2
}
