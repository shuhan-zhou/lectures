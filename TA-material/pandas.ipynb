{
 "cells": [
  {
   "cell_type": "code",
   "execution_count": 65,
   "metadata": {},
   "outputs": [],
   "source": [
    "#import pandas with shorthand\n",
    "import pandas as pd\n",
    "\n",
    "#change how many columns are displayed in jupyter-notebook window\n",
    "pd.set_option(\"display.max_columns\",100)"
   ]
  },
  {
   "cell_type": "code",
   "execution_count": 111,
   "metadata": {},
   "outputs": [],
   "source": [
    "#read crimes csv\n",
    "#this dataset was crimes from 2014-2016\n",
    "crimes = pd.read_csv('/Users/andrewyaz/Downloads/ippp_crimes.csv')"
   ]
  },
  {
   "cell_type": "code",
   "execution_count": 2,
   "metadata": {},
   "outputs": [
    {
     "data": {
      "text/plain": [
       "Index(['ID', 'Case Number', 'Date', 'Block', 'IUCR', 'Primary Type',\n",
       "       'Description', 'Location Description', 'Arrest', 'Domestic', 'Beat',\n",
       "       'District', 'Ward', 'Community Area', 'FBI Code', 'X Coordinate',\n",
       "       'Y Coordinate', 'Year', 'Updated On', 'Latitude', 'Longitude',\n",
       "       'Location'],\n",
       "      dtype='object')"
      ]
     },
     "execution_count": 2,
     "metadata": {},
     "output_type": "execute_result"
    }
   ],
   "source": [
    "#look at columns\n",
    "crimes.columns"
   ]
  },
  {
   "cell_type": "code",
   "execution_count": 134,
   "metadata": {},
   "outputs": [
    {
     "data": {
      "text/html": [
       "<div>\n",
       "<style>\n",
       "    .dataframe thead tr:only-child th {\n",
       "        text-align: right;\n",
       "    }\n",
       "\n",
       "    .dataframe thead th {\n",
       "        text-align: left;\n",
       "    }\n",
       "\n",
       "    .dataframe tbody tr th {\n",
       "        vertical-align: top;\n",
       "    }\n",
       "</style>\n",
       "<table border=\"1\" class=\"dataframe\">\n",
       "  <thead>\n",
       "    <tr style=\"text-align: right;\">\n",
       "      <th></th>\n",
       "      <th>ID</th>\n",
       "      <th>Case Number</th>\n",
       "      <th>Date</th>\n",
       "      <th>Block</th>\n",
       "      <th>IUCR</th>\n",
       "      <th>Primary Type</th>\n",
       "      <th>Description</th>\n",
       "      <th>Location Description</th>\n",
       "      <th>Arrest</th>\n",
       "      <th>Domestic</th>\n",
       "      <th>Beat</th>\n",
       "      <th>District</th>\n",
       "      <th>Ward</th>\n",
       "      <th>Community Area</th>\n",
       "      <th>FBI Code</th>\n",
       "      <th>X Coordinate</th>\n",
       "      <th>Y Coordinate</th>\n",
       "      <th>Year</th>\n",
       "      <th>Updated On</th>\n",
       "      <th>Latitude</th>\n",
       "      <th>Longitude</th>\n",
       "      <th>Location</th>\n",
       "    </tr>\n",
       "  </thead>\n",
       "  <tbody>\n",
       "  </tbody>\n",
       "</table>\n",
       "</div>"
      ],
      "text/plain": [
       "Empty DataFrame\n",
       "Columns: [ID, Case Number, Date, Block, IUCR, Primary Type, Description, Location Description, Arrest, Domestic, Beat, District, Ward, Community Area, FBI Code, X Coordinate, Y Coordinate, Year, Updated On, Latitude, Longitude, Location]\n",
       "Index: []"
      ]
     },
     "execution_count": 134,
     "metadata": {},
     "output_type": "execute_result"
    }
   ],
   "source": [
    "crimes[crimes.Arrest.isnull()]"
   ]
  },
  {
   "cell_type": "code",
   "execution_count": 114,
   "metadata": {},
   "outputs": [
    {
     "data": {
      "text/plain": [
       "(263466, 22)"
      ]
     },
     "execution_count": 114,
     "metadata": {},
     "output_type": "execute_result"
    }
   ],
   "source": [
    "crimes.shape"
   ]
  },
  {
   "cell_type": "code",
   "execution_count": 3,
   "metadata": {},
   "outputs": [
    {
     "data": {
      "text/html": [
       "<div>\n",
       "<style>\n",
       "    .dataframe thead tr:only-child th {\n",
       "        text-align: right;\n",
       "    }\n",
       "\n",
       "    .dataframe thead th {\n",
       "        text-align: left;\n",
       "    }\n",
       "\n",
       "    .dataframe tbody tr th {\n",
       "        vertical-align: top;\n",
       "    }\n",
       "</style>\n",
       "<table border=\"1\" class=\"dataframe\">\n",
       "  <thead>\n",
       "    <tr style=\"text-align: right;\">\n",
       "      <th></th>\n",
       "      <th>ID</th>\n",
       "      <th>Beat</th>\n",
       "      <th>District</th>\n",
       "      <th>Ward</th>\n",
       "      <th>Community Area</th>\n",
       "      <th>X Coordinate</th>\n",
       "      <th>Y Coordinate</th>\n",
       "      <th>Year</th>\n",
       "      <th>Latitude</th>\n",
       "      <th>Longitude</th>\n",
       "    </tr>\n",
       "  </thead>\n",
       "  <tbody>\n",
       "    <tr>\n",
       "      <th>count</th>\n",
       "      <td>2.634660e+05</td>\n",
       "      <td>263466.000000</td>\n",
       "      <td>263466.000000</td>\n",
       "      <td>263464.000000</td>\n",
       "      <td>263466.000000</td>\n",
       "      <td>2.597680e+05</td>\n",
       "      <td>2.597680e+05</td>\n",
       "      <td>263466.0</td>\n",
       "      <td>259768.000000</td>\n",
       "      <td>259768.000000</td>\n",
       "    </tr>\n",
       "    <tr>\n",
       "      <th>mean</th>\n",
       "      <td>1.013066e+07</td>\n",
       "      <td>1144.083700</td>\n",
       "      <td>11.211162</td>\n",
       "      <td>22.817076</td>\n",
       "      <td>37.566825</td>\n",
       "      <td>1.164418e+06</td>\n",
       "      <td>1.885561e+06</td>\n",
       "      <td>2015.0</td>\n",
       "      <td>41.841580</td>\n",
       "      <td>-87.672178</td>\n",
       "    </tr>\n",
       "    <tr>\n",
       "      <th>std</th>\n",
       "      <td>4.593590e+05</td>\n",
       "      <td>690.763601</td>\n",
       "      <td>6.900580</td>\n",
       "      <td>13.785791</td>\n",
       "      <td>21.421903</td>\n",
       "      <td>1.648162e+04</td>\n",
       "      <td>3.116661e+04</td>\n",
       "      <td>0.0</td>\n",
       "      <td>0.085721</td>\n",
       "      <td>0.059992</td>\n",
       "    </tr>\n",
       "    <tr>\n",
       "      <th>min</th>\n",
       "      <td>2.171400e+04</td>\n",
       "      <td>111.000000</td>\n",
       "      <td>1.000000</td>\n",
       "      <td>1.000000</td>\n",
       "      <td>0.000000</td>\n",
       "      <td>1.094231e+06</td>\n",
       "      <td>1.813897e+06</td>\n",
       "      <td>2015.0</td>\n",
       "      <td>41.644590</td>\n",
       "      <td>-87.928909</td>\n",
       "    </tr>\n",
       "    <tr>\n",
       "      <th>25%</th>\n",
       "      <td>1.003283e+07</td>\n",
       "      <td>613.000000</td>\n",
       "      <td>6.000000</td>\n",
       "      <td>10.000000</td>\n",
       "      <td>23.000000</td>\n",
       "      <td>1.152382e+06</td>\n",
       "      <td>1.858658e+06</td>\n",
       "      <td>2015.0</td>\n",
       "      <td>41.767503</td>\n",
       "      <td>-87.716022</td>\n",
       "    </tr>\n",
       "    <tr>\n",
       "      <th>50%</th>\n",
       "      <td>1.014792e+07</td>\n",
       "      <td>1023.000000</td>\n",
       "      <td>10.000000</td>\n",
       "      <td>23.000000</td>\n",
       "      <td>32.000000</td>\n",
       "      <td>1.166028e+06</td>\n",
       "      <td>1.891488e+06</td>\n",
       "      <td>2015.0</td>\n",
       "      <td>41.857943</td>\n",
       "      <td>-87.666122</td>\n",
       "    </tr>\n",
       "    <tr>\n",
       "      <th>75%</th>\n",
       "      <td>1.026161e+07</td>\n",
       "      <td>1654.000000</td>\n",
       "      <td>16.000000</td>\n",
       "      <td>34.000000</td>\n",
       "      <td>57.000000</td>\n",
       "      <td>1.176364e+06</td>\n",
       "      <td>1.908370e+06</td>\n",
       "      <td>2015.0</td>\n",
       "      <td>41.904398</td>\n",
       "      <td>-87.628069</td>\n",
       "    </tr>\n",
       "    <tr>\n",
       "      <th>max</th>\n",
       "      <td>1.112912e+07</td>\n",
       "      <td>2535.000000</td>\n",
       "      <td>31.000000</td>\n",
       "      <td>50.000000</td>\n",
       "      <td>77.000000</td>\n",
       "      <td>1.205111e+06</td>\n",
       "      <td>1.951523e+06</td>\n",
       "      <td>2015.0</td>\n",
       "      <td>42.022575</td>\n",
       "      <td>-87.524615</td>\n",
       "    </tr>\n",
       "  </tbody>\n",
       "</table>\n",
       "</div>"
      ],
      "text/plain": [
       "                 ID           Beat       District           Ward  \\\n",
       "count  2.634660e+05  263466.000000  263466.000000  263464.000000   \n",
       "mean   1.013066e+07    1144.083700      11.211162      22.817076   \n",
       "std    4.593590e+05     690.763601       6.900580      13.785791   \n",
       "min    2.171400e+04     111.000000       1.000000       1.000000   \n",
       "25%    1.003283e+07     613.000000       6.000000      10.000000   \n",
       "50%    1.014792e+07    1023.000000      10.000000      23.000000   \n",
       "75%    1.026161e+07    1654.000000      16.000000      34.000000   \n",
       "max    1.112912e+07    2535.000000      31.000000      50.000000   \n",
       "\n",
       "       Community Area  X Coordinate  Y Coordinate      Year       Latitude  \\\n",
       "count   263466.000000  2.597680e+05  2.597680e+05  263466.0  259768.000000   \n",
       "mean        37.566825  1.164418e+06  1.885561e+06    2015.0      41.841580   \n",
       "std         21.421903  1.648162e+04  3.116661e+04       0.0       0.085721   \n",
       "min          0.000000  1.094231e+06  1.813897e+06    2015.0      41.644590   \n",
       "25%         23.000000  1.152382e+06  1.858658e+06    2015.0      41.767503   \n",
       "50%         32.000000  1.166028e+06  1.891488e+06    2015.0      41.857943   \n",
       "75%         57.000000  1.176364e+06  1.908370e+06    2015.0      41.904398   \n",
       "max         77.000000  1.205111e+06  1.951523e+06    2015.0      42.022575   \n",
       "\n",
       "           Longitude  \n",
       "count  259768.000000  \n",
       "mean      -87.672178  \n",
       "std         0.059992  \n",
       "min       -87.928909  \n",
       "25%       -87.716022  \n",
       "50%       -87.666122  \n",
       "75%       -87.628069  \n",
       "max       -87.524615  "
      ]
     },
     "execution_count": 3,
     "metadata": {},
     "output_type": "execute_result"
    }
   ],
   "source": [
    "\n",
    "crimes.describe()"
   ]
  },
  {
   "cell_type": "code",
   "execution_count": 5,
   "metadata": {},
   "outputs": [
    {
     "data": {
      "text/plain": [
       "ID                      263466\n",
       "Case Number             263466\n",
       "Date                    263466\n",
       "Block                   263466\n",
       "IUCR                    263466\n",
       "Primary Type            263466\n",
       "Description             263466\n",
       "Location Description    263166\n",
       "Arrest                  263466\n",
       "Domestic                263466\n",
       "Beat                    263466\n",
       "District                263466\n",
       "Ward                    263464\n",
       "Community Area          263466\n",
       "FBI Code                263466\n",
       "X Coordinate            259768\n",
       "Y Coordinate            259768\n",
       "Year                    263466\n",
       "Updated On              263466\n",
       "Latitude                259768\n",
       "Longitude               259768\n",
       "Location                259768\n",
       "dtype: int64"
      ]
     },
     "execution_count": 5,
     "metadata": {},
     "output_type": "execute_result"
    }
   ],
   "source": [
    "#counts of values in each column, basically indicates if there are any NA's\n",
    "crimes.count()"
   ]
  },
  {
   "cell_type": "code",
   "execution_count": null,
   "metadata": {},
   "outputs": [],
   "source": []
  },
  {
   "cell_type": "code",
   "execution_count": 88,
   "metadata": {},
   "outputs": [],
   "source": [
    "crimes.dropna(inplace = True)"
   ]
  },
  {
   "cell_type": "code",
   "execution_count": 9,
   "metadata": {},
   "outputs": [
    {
     "data": {
      "text/plain": [
       "False    193802\n",
       "True      69664\n",
       "Name: Arrest, dtype: int64"
      ]
     },
     "execution_count": 9,
     "metadata": {},
     "output_type": "execute_result"
    }
   ],
   "source": [
    "crimes.Arrest.value_counts()"
   ]
  },
  {
   "cell_type": "code",
   "execution_count": 43,
   "metadata": {},
   "outputs": [
    {
     "data": {
      "text/plain": [
       "dtype('O')"
      ]
     },
     "execution_count": 43,
     "metadata": {},
     "output_type": "execute_result"
    }
   ],
   "source": [
    "crimes.Date.dtype"
   ]
  },
  {
   "cell_type": "code",
   "execution_count": 44,
   "metadata": {},
   "outputs": [],
   "source": [
    "crimes.Date = pd.to_datetime(crimes.Date)"
   ]
  },
  {
   "cell_type": "code",
   "execution_count": 10,
   "metadata": {},
   "outputs": [
    {
     "data": {
      "text/plain": [
       "pandas.core.series.Series"
      ]
     },
     "execution_count": 10,
     "metadata": {},
     "output_type": "execute_result"
    }
   ],
   "source": [
    "type(crimes.Arrest)"
   ]
  },
  {
   "cell_type": "code",
   "execution_count": 11,
   "metadata": {},
   "outputs": [
    {
     "data": {
      "text/plain": [
       "pandas.core.frame.DataFrame"
      ]
     },
     "execution_count": 11,
     "metadata": {},
     "output_type": "execute_result"
    }
   ],
   "source": [
    "type(crimes)"
   ]
  },
  {
   "cell_type": "code",
   "execution_count": 125,
   "metadata": {},
   "outputs": [],
   "source": [
    "#this data will be in this repo\n",
    "weather = pd.read_csv('/Users/andrewyaz/Downloads/weather_year.csv')"
   ]
  },
  {
   "cell_type": "code",
   "execution_count": 126,
   "metadata": {},
   "outputs": [
    {
     "data": {
      "text/plain": [
       "Index(['EDT', 'Max TemperatureF', 'Mean TemperatureF', 'Min TemperatureF',\n",
       "       'Max Dew PointF', 'MeanDew PointF', 'Min DewpointF', 'Max Humidity',\n",
       "       ' Mean Humidity', ' Min Humidity', ' Max Sea Level PressureIn',\n",
       "       ' Mean Sea Level PressureIn', ' Min Sea Level PressureIn',\n",
       "       ' Max VisibilityMiles', ' Mean VisibilityMiles', ' Min VisibilityMiles',\n",
       "       ' Max Wind SpeedMPH', ' Mean Wind SpeedMPH', ' Max Gust SpeedMPH',\n",
       "       'PrecipitationIn', ' CloudCover', ' Events', ' WindDirDegrees'],\n",
       "      dtype='object')"
      ]
     },
     "execution_count": 126,
     "metadata": {},
     "output_type": "execute_result"
    }
   ],
   "source": [
    "weather.columns"
   ]
  },
  {
   "cell_type": "code",
   "execution_count": 141,
   "metadata": {},
   "outputs": [],
   "source": [
    "weather.EDT = pd.to_datetime(weather.EDT)\n",
    "weather['day'] = weather.EDT.dt.dayofweek\n",
    "weather['hour'] = weather.EDT.dt.hour\n",
    "weather['month'] = weather.EDT.dt.month"
   ]
  },
  {
   "cell_type": "code",
   "execution_count": 142,
   "metadata": {},
   "outputs": [
    {
     "data": {
      "text/html": [
       "<div>\n",
       "<style>\n",
       "    .dataframe thead tr:only-child th {\n",
       "        text-align: right;\n",
       "    }\n",
       "\n",
       "    .dataframe thead th {\n",
       "        text-align: left;\n",
       "    }\n",
       "\n",
       "    .dataframe tbody tr th {\n",
       "        vertical-align: top;\n",
       "    }\n",
       "</style>\n",
       "<table border=\"1\" class=\"dataframe\">\n",
       "  <thead>\n",
       "    <tr style=\"text-align: right;\">\n",
       "      <th></th>\n",
       "      <th>EDT</th>\n",
       "      <th>Max TemperatureF</th>\n",
       "      <th>Mean TemperatureF</th>\n",
       "      <th>Min TemperatureF</th>\n",
       "      <th>Max Dew PointF</th>\n",
       "      <th>MeanDew PointF</th>\n",
       "      <th>Min DewpointF</th>\n",
       "      <th>Max Humidity</th>\n",
       "      <th>Mean Humidity</th>\n",
       "      <th>Min Humidity</th>\n",
       "      <th>Max Sea Level PressureIn</th>\n",
       "      <th>Mean Sea Level PressureIn</th>\n",
       "      <th>Min Sea Level PressureIn</th>\n",
       "      <th>Max VisibilityMiles</th>\n",
       "      <th>Mean VisibilityMiles</th>\n",
       "      <th>Min VisibilityMiles</th>\n",
       "      <th>Max Wind SpeedMPH</th>\n",
       "      <th>Mean Wind SpeedMPH</th>\n",
       "      <th>Max Gust SpeedMPH</th>\n",
       "      <th>PrecipitationIn</th>\n",
       "      <th>CloudCover</th>\n",
       "      <th>Event</th>\n",
       "      <th>WindDirDegrees</th>\n",
       "      <th>day</th>\n",
       "      <th>hour</th>\n",
       "      <th>month</th>\n",
       "    </tr>\n",
       "  </thead>\n",
       "  <tbody>\n",
       "    <tr>\n",
       "      <th>0</th>\n",
       "      <td>2012-03-10</td>\n",
       "      <td>56</td>\n",
       "      <td>40</td>\n",
       "      <td>24</td>\n",
       "      <td>24</td>\n",
       "      <td>20</td>\n",
       "      <td>16</td>\n",
       "      <td>74</td>\n",
       "      <td>50</td>\n",
       "      <td>26</td>\n",
       "      <td>30.53</td>\n",
       "      <td>30.45</td>\n",
       "      <td>30.34</td>\n",
       "      <td>10</td>\n",
       "      <td>10</td>\n",
       "      <td>10</td>\n",
       "      <td>13</td>\n",
       "      <td>6</td>\n",
       "      <td>17.0</td>\n",
       "      <td>0.00</td>\n",
       "      <td>0</td>\n",
       "      <td>NaN</td>\n",
       "      <td>138</td>\n",
       "      <td>5</td>\n",
       "      <td>0</td>\n",
       "      <td>3</td>\n",
       "    </tr>\n",
       "    <tr>\n",
       "      <th>1</th>\n",
       "      <td>2012-03-11</td>\n",
       "      <td>67</td>\n",
       "      <td>49</td>\n",
       "      <td>30</td>\n",
       "      <td>43</td>\n",
       "      <td>31</td>\n",
       "      <td>24</td>\n",
       "      <td>78</td>\n",
       "      <td>53</td>\n",
       "      <td>28</td>\n",
       "      <td>30.37</td>\n",
       "      <td>30.27</td>\n",
       "      <td>30.13</td>\n",
       "      <td>10</td>\n",
       "      <td>10</td>\n",
       "      <td>10</td>\n",
       "      <td>22</td>\n",
       "      <td>7</td>\n",
       "      <td>32.0</td>\n",
       "      <td>T</td>\n",
       "      <td>1</td>\n",
       "      <td>Rain</td>\n",
       "      <td>163</td>\n",
       "      <td>6</td>\n",
       "      <td>0</td>\n",
       "      <td>3</td>\n",
       "    </tr>\n",
       "    <tr>\n",
       "      <th>2</th>\n",
       "      <td>2012-03-12</td>\n",
       "      <td>71</td>\n",
       "      <td>62</td>\n",
       "      <td>53</td>\n",
       "      <td>59</td>\n",
       "      <td>55</td>\n",
       "      <td>43</td>\n",
       "      <td>90</td>\n",
       "      <td>76</td>\n",
       "      <td>61</td>\n",
       "      <td>30.13</td>\n",
       "      <td>29.99</td>\n",
       "      <td>29.88</td>\n",
       "      <td>10</td>\n",
       "      <td>10</td>\n",
       "      <td>6</td>\n",
       "      <td>24</td>\n",
       "      <td>14</td>\n",
       "      <td>36.0</td>\n",
       "      <td>0.03</td>\n",
       "      <td>6</td>\n",
       "      <td>Rain</td>\n",
       "      <td>190</td>\n",
       "      <td>0</td>\n",
       "      <td>0</td>\n",
       "      <td>3</td>\n",
       "    </tr>\n",
       "    <tr>\n",
       "      <th>3</th>\n",
       "      <td>2012-03-13</td>\n",
       "      <td>76</td>\n",
       "      <td>63</td>\n",
       "      <td>50</td>\n",
       "      <td>57</td>\n",
       "      <td>53</td>\n",
       "      <td>47</td>\n",
       "      <td>93</td>\n",
       "      <td>66</td>\n",
       "      <td>38</td>\n",
       "      <td>30.12</td>\n",
       "      <td>30.06</td>\n",
       "      <td>29.97</td>\n",
       "      <td>10</td>\n",
       "      <td>10</td>\n",
       "      <td>4</td>\n",
       "      <td>16</td>\n",
       "      <td>5</td>\n",
       "      <td>24.0</td>\n",
       "      <td>0.00</td>\n",
       "      <td>0</td>\n",
       "      <td>NaN</td>\n",
       "      <td>242</td>\n",
       "      <td>1</td>\n",
       "      <td>0</td>\n",
       "      <td>3</td>\n",
       "    </tr>\n",
       "    <tr>\n",
       "      <th>4</th>\n",
       "      <td>2012-03-14</td>\n",
       "      <td>80</td>\n",
       "      <td>62</td>\n",
       "      <td>44</td>\n",
       "      <td>58</td>\n",
       "      <td>52</td>\n",
       "      <td>43</td>\n",
       "      <td>93</td>\n",
       "      <td>68</td>\n",
       "      <td>42</td>\n",
       "      <td>30.15</td>\n",
       "      <td>30.10</td>\n",
       "      <td>30.04</td>\n",
       "      <td>10</td>\n",
       "      <td>10</td>\n",
       "      <td>10</td>\n",
       "      <td>16</td>\n",
       "      <td>6</td>\n",
       "      <td>22.0</td>\n",
       "      <td>0.00</td>\n",
       "      <td>0</td>\n",
       "      <td>NaN</td>\n",
       "      <td>202</td>\n",
       "      <td>2</td>\n",
       "      <td>0</td>\n",
       "      <td>3</td>\n",
       "    </tr>\n",
       "    <tr>\n",
       "      <th>5</th>\n",
       "      <td>2012-03-15</td>\n",
       "      <td>79</td>\n",
       "      <td>69</td>\n",
       "      <td>58</td>\n",
       "      <td>61</td>\n",
       "      <td>58</td>\n",
       "      <td>53</td>\n",
       "      <td>90</td>\n",
       "      <td>69</td>\n",
       "      <td>48</td>\n",
       "      <td>30.13</td>\n",
       "      <td>30.08</td>\n",
       "      <td>30.02</td>\n",
       "      <td>10</td>\n",
       "      <td>10</td>\n",
       "      <td>10</td>\n",
       "      <td>31</td>\n",
       "      <td>10</td>\n",
       "      <td>41.0</td>\n",
       "      <td>0.04</td>\n",
       "      <td>3</td>\n",
       "      <td>Rain</td>\n",
       "      <td>209</td>\n",
       "      <td>3</td>\n",
       "      <td>0</td>\n",
       "      <td>3</td>\n",
       "    </tr>\n",
       "    <tr>\n",
       "      <th>6</th>\n",
       "      <td>2012-03-16</td>\n",
       "      <td>75</td>\n",
       "      <td>64</td>\n",
       "      <td>52</td>\n",
       "      <td>57</td>\n",
       "      <td>54</td>\n",
       "      <td>51</td>\n",
       "      <td>100</td>\n",
       "      <td>75</td>\n",
       "      <td>49</td>\n",
       "      <td>30.14</td>\n",
       "      <td>30.10</td>\n",
       "      <td>30.07</td>\n",
       "      <td>10</td>\n",
       "      <td>10</td>\n",
       "      <td>10</td>\n",
       "      <td>14</td>\n",
       "      <td>5</td>\n",
       "      <td>20.0</td>\n",
       "      <td>T</td>\n",
       "      <td>2</td>\n",
       "      <td>NaN</td>\n",
       "      <td>169</td>\n",
       "      <td>4</td>\n",
       "      <td>0</td>\n",
       "      <td>3</td>\n",
       "    </tr>\n",
       "    <tr>\n",
       "      <th>7</th>\n",
       "      <td>2012-03-17</td>\n",
       "      <td>78</td>\n",
       "      <td>62</td>\n",
       "      <td>46</td>\n",
       "      <td>60</td>\n",
       "      <td>54</td>\n",
       "      <td>46</td>\n",
       "      <td>100</td>\n",
       "      <td>78</td>\n",
       "      <td>56</td>\n",
       "      <td>30.15</td>\n",
       "      <td>30.11</td>\n",
       "      <td>30.04</td>\n",
       "      <td>10</td>\n",
       "      <td>5</td>\n",
       "      <td>0</td>\n",
       "      <td>12</td>\n",
       "      <td>5</td>\n",
       "      <td>17.0</td>\n",
       "      <td>T</td>\n",
       "      <td>3</td>\n",
       "      <td>Fog-Thunderstorm</td>\n",
       "      <td>162</td>\n",
       "      <td>5</td>\n",
       "      <td>0</td>\n",
       "      <td>3</td>\n",
       "    </tr>\n",
       "    <tr>\n",
       "      <th>8</th>\n",
       "      <td>2012-03-18</td>\n",
       "      <td>80</td>\n",
       "      <td>70</td>\n",
       "      <td>59</td>\n",
       "      <td>61</td>\n",
       "      <td>58</td>\n",
       "      <td>57</td>\n",
       "      <td>93</td>\n",
       "      <td>69</td>\n",
       "      <td>45</td>\n",
       "      <td>30.14</td>\n",
       "      <td>30.07</td>\n",
       "      <td>30.02</td>\n",
       "      <td>10</td>\n",
       "      <td>10</td>\n",
       "      <td>9</td>\n",
       "      <td>18</td>\n",
       "      <td>8</td>\n",
       "      <td>25.0</td>\n",
       "      <td>T</td>\n",
       "      <td>2</td>\n",
       "      <td>Rain</td>\n",
       "      <td>197</td>\n",
       "      <td>6</td>\n",
       "      <td>0</td>\n",
       "      <td>3</td>\n",
       "    </tr>\n",
       "    <tr>\n",
       "      <th>9</th>\n",
       "      <td>2012-03-19</td>\n",
       "      <td>84</td>\n",
       "      <td>72</td>\n",
       "      <td>59</td>\n",
       "      <td>58</td>\n",
       "      <td>56</td>\n",
       "      <td>50</td>\n",
       "      <td>90</td>\n",
       "      <td>66</td>\n",
       "      <td>42</td>\n",
       "      <td>30.09</td>\n",
       "      <td>30.03</td>\n",
       "      <td>29.98</td>\n",
       "      <td>10</td>\n",
       "      <td>10</td>\n",
       "      <td>10</td>\n",
       "      <td>17</td>\n",
       "      <td>6</td>\n",
       "      <td>23.0</td>\n",
       "      <td>0.00</td>\n",
       "      <td>1</td>\n",
       "      <td>NaN</td>\n",
       "      <td>165</td>\n",
       "      <td>0</td>\n",
       "      <td>0</td>\n",
       "      <td>3</td>\n",
       "    </tr>\n",
       "  </tbody>\n",
       "</table>\n",
       "</div>"
      ],
      "text/plain": [
       "         EDT  Max TemperatureF  Mean TemperatureF  Min TemperatureF  \\\n",
       "0 2012-03-10                56                 40                24   \n",
       "1 2012-03-11                67                 49                30   \n",
       "2 2012-03-12                71                 62                53   \n",
       "3 2012-03-13                76                 63                50   \n",
       "4 2012-03-14                80                 62                44   \n",
       "5 2012-03-15                79                 69                58   \n",
       "6 2012-03-16                75                 64                52   \n",
       "7 2012-03-17                78                 62                46   \n",
       "8 2012-03-18                80                 70                59   \n",
       "9 2012-03-19                84                 72                59   \n",
       "\n",
       "   Max Dew PointF  MeanDew PointF  Min DewpointF  Max Humidity  \\\n",
       "0              24              20             16            74   \n",
       "1              43              31             24            78   \n",
       "2              59              55             43            90   \n",
       "3              57              53             47            93   \n",
       "4              58              52             43            93   \n",
       "5              61              58             53            90   \n",
       "6              57              54             51           100   \n",
       "7              60              54             46           100   \n",
       "8              61              58             57            93   \n",
       "9              58              56             50            90   \n",
       "\n",
       "    Mean Humidity   Min Humidity   Max Sea Level PressureIn  \\\n",
       "0              50             26                      30.53   \n",
       "1              53             28                      30.37   \n",
       "2              76             61                      30.13   \n",
       "3              66             38                      30.12   \n",
       "4              68             42                      30.15   \n",
       "5              69             48                      30.13   \n",
       "6              75             49                      30.14   \n",
       "7              78             56                      30.15   \n",
       "8              69             45                      30.14   \n",
       "9              66             42                      30.09   \n",
       "\n",
       "    Mean Sea Level PressureIn   Min Sea Level PressureIn  \\\n",
       "0                       30.45                      30.34   \n",
       "1                       30.27                      30.13   \n",
       "2                       29.99                      29.88   \n",
       "3                       30.06                      29.97   \n",
       "4                       30.10                      30.04   \n",
       "5                       30.08                      30.02   \n",
       "6                       30.10                      30.07   \n",
       "7                       30.11                      30.04   \n",
       "8                       30.07                      30.02   \n",
       "9                       30.03                      29.98   \n",
       "\n",
       "    Max VisibilityMiles   Mean VisibilityMiles   Min VisibilityMiles  \\\n",
       "0                    10                     10                    10   \n",
       "1                    10                     10                    10   \n",
       "2                    10                     10                     6   \n",
       "3                    10                     10                     4   \n",
       "4                    10                     10                    10   \n",
       "5                    10                     10                    10   \n",
       "6                    10                     10                    10   \n",
       "7                    10                      5                     0   \n",
       "8                    10                     10                     9   \n",
       "9                    10                     10                    10   \n",
       "\n",
       "    Max Wind SpeedMPH   Mean Wind SpeedMPH   Max Gust SpeedMPH  \\\n",
       "0                  13                    6                17.0   \n",
       "1                  22                    7                32.0   \n",
       "2                  24                   14                36.0   \n",
       "3                  16                    5                24.0   \n",
       "4                  16                    6                22.0   \n",
       "5                  31                   10                41.0   \n",
       "6                  14                    5                20.0   \n",
       "7                  12                    5                17.0   \n",
       "8                  18                    8                25.0   \n",
       "9                  17                    6                23.0   \n",
       "\n",
       "  PrecipitationIn   CloudCover             Event   WindDirDegrees  day  hour  \\\n",
       "0            0.00            0               NaN              138    5     0   \n",
       "1               T            1              Rain              163    6     0   \n",
       "2            0.03            6              Rain              190    0     0   \n",
       "3            0.00            0               NaN              242    1     0   \n",
       "4            0.00            0               NaN              202    2     0   \n",
       "5            0.04            3              Rain              209    3     0   \n",
       "6               T            2               NaN              169    4     0   \n",
       "7               T            3  Fog-Thunderstorm              162    5     0   \n",
       "8               T            2              Rain              197    6     0   \n",
       "9            0.00            1               NaN              165    0     0   \n",
       "\n",
       "   month  \n",
       "0      3  \n",
       "1      3  \n",
       "2      3  \n",
       "3      3  \n",
       "4      3  \n",
       "5      3  \n",
       "6      3  \n",
       "7      3  \n",
       "8      3  \n",
       "9      3  "
      ]
     },
     "execution_count": 142,
     "metadata": {},
     "output_type": "execute_result"
    }
   ],
   "source": [
    "weather.head(10)"
   ]
  },
  {
   "cell_type": "code",
   "execution_count": 129,
   "metadata": {},
   "outputs": [],
   "source": [
    "weather = weather.rename(columns = {' Events': 'Event'})"
   ]
  },
  {
   "cell_type": "code",
   "execution_count": 130,
   "metadata": {},
   "outputs": [
    {
     "data": {
      "text/plain": [
       "Rain                          69\n",
       "Rain-Thunderstorm             26\n",
       "Fog                           13\n",
       "Snow                          13\n",
       "Fog-Rain                      11\n",
       "Thunderstorm                   9\n",
       "Fog-Rain-Thunderstorm          8\n",
       "Fog-Snow                       5\n",
       "Rain-Snow                      3\n",
       "Fog-Rain-Snow                  3\n",
       "Fog-Rain-Snow-Thunderstorm     1\n",
       "Fog-Thunderstorm               1\n",
       "Name: Event, dtype: int64"
      ]
     },
     "execution_count": 130,
     "metadata": {},
     "output_type": "execute_result"
    }
   ],
   "source": [
    "weather.Event.value_counts()"
   ]
  },
  {
   "cell_type": "code",
   "execution_count": 145,
   "metadata": {},
   "outputs": [],
   "source": [
    "weather.Event.replace('Rain-Thunderstorm', 'Rain', inplace = True)"
   ]
  },
  {
   "cell_type": "code",
   "execution_count": 144,
   "metadata": {},
   "outputs": [
    {
     "data": {
      "text/plain": [
       "Rain                          95\n",
       "Fog                           13\n",
       "Snow                          13\n",
       "Fog-Rain                      11\n",
       "Thunderstorm                   9\n",
       "Fog-Rain-Thunderstorm          8\n",
       "Fog-Snow                       5\n",
       "Rain-Snow                      3\n",
       "Fog-Rain-Snow                  3\n",
       "Fog-Rain-Snow-Thunderstorm     1\n",
       "Fog-Thunderstorm               1\n",
       "Name: Event, dtype: int64"
      ]
     },
     "execution_count": 144,
     "metadata": {},
     "output_type": "execute_result"
    }
   ],
   "source": [
    "weather.Event.value_counts()"
   ]
  },
  {
   "cell_type": "code",
   "execution_count": 146,
   "metadata": {},
   "outputs": [],
   "source": [
    "null_events = weather[weather['Event'].isnull()] # show index"
   ]
  },
  {
   "cell_type": "code",
   "execution_count": 148,
   "metadata": {},
   "outputs": [
    {
     "data": {
      "text/plain": [
       "Int64Index([  0,   3,   4,   6,   9,  10,  11,  15,  16,  17,\n",
       "            ...\n",
       "            343, 344, 347, 350, 351, 352, 362, 363, 364, 365],\n",
       "           dtype='int64', length=204)"
      ]
     },
     "execution_count": 148,
     "metadata": {},
     "output_type": "execute_result"
    }
   ],
   "source": [
    "null_events.index"
   ]
  },
  {
   "cell_type": "code",
   "execution_count": 149,
   "metadata": {},
   "outputs": [],
   "source": [
    "events = weather[weather['Event'].notnull()]"
   ]
  },
  {
   "cell_type": "code",
   "execution_count": 150,
   "metadata": {},
   "outputs": [],
   "source": [
    "crime_2012 = pd.read_json('https://data.cityofchicago.org/resource/guvg-nway.json')"
   ]
  },
  {
   "cell_type": "code",
   "execution_count": 151,
   "metadata": {},
   "outputs": [
    {
     "data": {
      "text/plain": [
       "Index(['arrest', 'beat', 'block', 'case_number', 'community_area', 'date',\n",
       "       'description', 'district', 'domestic', 'fbi_code', 'id', 'iucr',\n",
       "       'latitude', 'location', 'location_description', 'longitude',\n",
       "       'primary_type', 'updated_on', 'ward', 'x_coordinate', 'y_coordinate',\n",
       "       'year'],\n",
       "      dtype='object')"
      ]
     },
     "execution_count": 151,
     "metadata": {},
     "output_type": "execute_result"
    }
   ],
   "source": [
    "crime_2012.columns"
   ]
  },
  {
   "cell_type": "code",
   "execution_count": 154,
   "metadata": {},
   "outputs": [],
   "source": [
    "is_fraud = crime_2012.description == 'TO PROPERTY'"
   ]
  },
  {
   "cell_type": "code",
   "execution_count": 156,
   "metadata": {},
   "outputs": [],
   "source": [
    "is_fraud = merged.description == 'TO PROPERTY'"
   ]
  },
  {
   "cell_type": "code",
   "execution_count": 160,
   "metadata": {},
   "outputs": [],
   "source": [
    "merged = pd.merge(crime_2012, weather, left_on = 'date', right_on = 'EDT', how = 'left')"
   ]
  },
  {
   "cell_type": "code",
   "execution_count": null,
   "metadata": {},
   "outputs": [],
   "source": [
    "merged.head()"
   ]
  },
  {
   "cell_type": "code",
   "execution_count": null,
   "metadata": {},
   "outputs": [],
   "source": [
    "merged[merged.Event.isnull()]"
   ]
  },
  {
   "cell_type": "code",
   "execution_count": 82,
   "metadata": {},
   "outputs": [
    {
     "data": {
      "text/plain": [
       "0    False\n",
       "1    False\n",
       "2    False\n",
       "3    False\n",
       "4    False\n",
       "5    False\n",
       "6    False\n",
       "7    False\n",
       "8    False\n",
       "9    False\n",
       "Name: description, dtype: bool"
      ]
     },
     "execution_count": 82,
     "metadata": {},
     "output_type": "execute_result"
    }
   ],
   "source": [
    "is_fraud[:10]"
   ]
  },
  {
   "cell_type": "code",
   "execution_count": 158,
   "metadata": {},
   "outputs": [
    {
     "data": {
      "text/html": [
       "<div>\n",
       "<style>\n",
       "    .dataframe thead tr:only-child th {\n",
       "        text-align: right;\n",
       "    }\n",
       "\n",
       "    .dataframe thead th {\n",
       "        text-align: left;\n",
       "    }\n",
       "\n",
       "    .dataframe tbody tr th {\n",
       "        vertical-align: top;\n",
       "    }\n",
       "</style>\n",
       "<table border=\"1\" class=\"dataframe\">\n",
       "  <thead>\n",
       "    <tr style=\"text-align: right;\">\n",
       "      <th></th>\n",
       "      <th>arrest</th>\n",
       "      <th>beat</th>\n",
       "      <th>block</th>\n",
       "      <th>case_number</th>\n",
       "      <th>community_area</th>\n",
       "      <th>date</th>\n",
       "      <th>description</th>\n",
       "      <th>district</th>\n",
       "      <th>domestic</th>\n",
       "      <th>fbi_code</th>\n",
       "      <th>id</th>\n",
       "      <th>iucr</th>\n",
       "      <th>latitude</th>\n",
       "      <th>location</th>\n",
       "      <th>location_description</th>\n",
       "      <th>longitude</th>\n",
       "      <th>primary_type</th>\n",
       "      <th>updated_on</th>\n",
       "      <th>ward</th>\n",
       "      <th>x_coordinate</th>\n",
       "      <th>y_coordinate</th>\n",
       "      <th>year</th>\n",
       "      <th>EDT</th>\n",
       "      <th>Max TemperatureF</th>\n",
       "      <th>Mean TemperatureF</th>\n",
       "      <th>Min TemperatureF</th>\n",
       "      <th>Max Dew PointF</th>\n",
       "      <th>MeanDew PointF</th>\n",
       "      <th>Min DewpointF</th>\n",
       "      <th>Max Humidity</th>\n",
       "      <th>Mean Humidity</th>\n",
       "      <th>Min Humidity</th>\n",
       "      <th>Max Sea Level PressureIn</th>\n",
       "      <th>Mean Sea Level PressureIn</th>\n",
       "      <th>Min Sea Level PressureIn</th>\n",
       "      <th>Max VisibilityMiles</th>\n",
       "      <th>Mean VisibilityMiles</th>\n",
       "      <th>Min VisibilityMiles</th>\n",
       "      <th>Max Wind SpeedMPH</th>\n",
       "      <th>Mean Wind SpeedMPH</th>\n",
       "      <th>Max Gust SpeedMPH</th>\n",
       "      <th>PrecipitationIn</th>\n",
       "      <th>CloudCover</th>\n",
       "      <th>Event</th>\n",
       "      <th>WindDirDegrees</th>\n",
       "      <th>day</th>\n",
       "      <th>hour</th>\n",
       "      <th>month</th>\n",
       "    </tr>\n",
       "  </thead>\n",
       "  <tbody>\n",
       "    <tr>\n",
       "      <th>0</th>\n",
       "      <td>False</td>\n",
       "      <td>611</td>\n",
       "      <td>077XX S PAULINA ST</td>\n",
       "      <td>HV622458</td>\n",
       "      <td>71</td>\n",
       "      <td>2012-12-31</td>\n",
       "      <td>TO PROPERTY</td>\n",
       "      <td>6</td>\n",
       "      <td>False</td>\n",
       "      <td>14</td>\n",
       "      <td>8950006</td>\n",
       "      <td>1310</td>\n",
       "      <td>41.752988</td>\n",
       "      <td>{'latitude': '41.752987691', 'human_address': ...</td>\n",
       "      <td>RESIDENCE</td>\n",
       "      <td>-87.665934</td>\n",
       "      <td>CRIMINAL DAMAGE</td>\n",
       "      <td>2016-02-04T06:33:39</td>\n",
       "      <td>17</td>\n",
       "      <td>1166358.0</td>\n",
       "      <td>1853286.0</td>\n",
       "      <td>2012</td>\n",
       "      <td>2012-12-31</td>\n",
       "      <td>36</td>\n",
       "      <td>31</td>\n",
       "      <td>25</td>\n",
       "      <td>31</td>\n",
       "      <td>28</td>\n",
       "      <td>21</td>\n",
       "      <td>92</td>\n",
       "      <td>78</td>\n",
       "      <td>64</td>\n",
       "      <td>30.28</td>\n",
       "      <td>30.13</td>\n",
       "      <td>30.06</td>\n",
       "      <td>10</td>\n",
       "      <td>4</td>\n",
       "      <td>0</td>\n",
       "      <td>18</td>\n",
       "      <td>7</td>\n",
       "      <td>28.0</td>\n",
       "      <td>0.12</td>\n",
       "      <td>7</td>\n",
       "      <td>Fog-Snow</td>\n",
       "      <td>228</td>\n",
       "      <td>0</td>\n",
       "      <td>0</td>\n",
       "      <td>12</td>\n",
       "    </tr>\n",
       "  </tbody>\n",
       "</table>\n",
       "</div>"
      ],
      "text/plain": [
       "   arrest  beat               block case_number  community_area       date  \\\n",
       "0   False   611  077XX S PAULINA ST    HV622458              71 2012-12-31   \n",
       "\n",
       "   description  district  domestic fbi_code       id  iucr   latitude  \\\n",
       "0  TO PROPERTY         6     False       14  8950006  1310  41.752988   \n",
       "\n",
       "                                            location location_description  \\\n",
       "0  {'latitude': '41.752987691', 'human_address': ...            RESIDENCE   \n",
       "\n",
       "   longitude     primary_type           updated_on  ward  x_coordinate  \\\n",
       "0 -87.665934  CRIMINAL DAMAGE  2016-02-04T06:33:39    17     1166358.0   \n",
       "\n",
       "   y_coordinate  year        EDT  Max TemperatureF  Mean TemperatureF  \\\n",
       "0     1853286.0  2012 2012-12-31                36                 31   \n",
       "\n",
       "   Min TemperatureF  Max Dew PointF  MeanDew PointF  Min DewpointF  \\\n",
       "0                25              31              28             21   \n",
       "\n",
       "   Max Humidity   Mean Humidity   Min Humidity   Max Sea Level PressureIn  \\\n",
       "0            92              78             64                      30.28   \n",
       "\n",
       "    Mean Sea Level PressureIn   Min Sea Level PressureIn  \\\n",
       "0                       30.13                      30.06   \n",
       "\n",
       "    Max VisibilityMiles   Mean VisibilityMiles   Min VisibilityMiles  \\\n",
       "0                    10                      4                     0   \n",
       "\n",
       "    Max Wind SpeedMPH   Mean Wind SpeedMPH   Max Gust SpeedMPH  \\\n",
       "0                  18                    7                28.0   \n",
       "\n",
       "  PrecipitationIn   CloudCover     Event   WindDirDegrees  day  hour  month  \n",
       "0            0.12            7  Fog-Snow              228    0     0     12  "
      ]
     },
     "execution_count": 158,
     "metadata": {},
     "output_type": "execute_result"
    }
   ],
   "source": [
    "merged[is_fraud].head()"
   ]
  },
  {
   "cell_type": "code",
   "execution_count": null,
   "metadata": {},
   "outputs": [],
   "source": [
    "merged.head(10)"
   ]
  },
  {
   "cell_type": "code",
   "execution_count": 168,
   "metadata": {},
   "outputs": [],
   "source": [
    "#crimes from 2014-2016\n",
    "crimes_correct = pd.read_csv('/Users/andrewyaz/Downloads/crimes.csv')"
   ]
  },
  {
   "cell_type": "code",
   "execution_count": null,
   "metadata": {},
   "outputs": [],
   "source": [
    "crimes_correct.head()"
   ]
  },
  {
   "cell_type": "code",
   "execution_count": 171,
   "metadata": {},
   "outputs": [
    {
     "data": {
      "text/plain": [
       "Index(['ID', 'Case Number', 'Date', 'Block', 'IUCR', 'Primary Type',\n",
       "       'Description', 'Location Description', 'Arrest', 'Domestic', 'Beat',\n",
       "       'District', 'Ward', 'Community Area', 'FBI Code', 'X Coordinate',\n",
       "       'Y Coordinate', 'Year', 'Updated On', 'Latitude', 'Longitude',\n",
       "       'Location'],\n",
       "      dtype='object')"
      ]
     },
     "execution_count": 171,
     "metadata": {},
     "output_type": "execute_result"
    }
   ],
   "source": [
    "crimes_correct.columns"
   ]
  },
  {
   "cell_type": "code",
   "execution_count": 177,
   "metadata": {},
   "outputs": [
    {
     "data": {
      "text/plain": [
       "array(['SEX OFFENSE', 'DECEPTIVE PRACTICE', 'CRIM SEXUAL ASSAULT',\n",
       "       'OFFENSE INVOLVING CHILDREN', 'THEFT', 'BATTERY', 'NARCOTICS',\n",
       "       'ASSAULT', 'ARSON', 'MOTOR VEHICLE THEFT', 'OTHER OFFENSE',\n",
       "       'WEAPONS VIOLATION', 'BURGLARY', 'PUBLIC PEACE VIOLATION',\n",
       "       'CRIMINAL DAMAGE', 'CRIMINAL TRESPASS', 'ROBBERY',\n",
       "       'LIQUOR LAW VIOLATION', 'INTERFERENCE WITH PUBLIC OFFICER',\n",
       "       'PROSTITUTION', 'KIDNAPPING', 'GAMBLING', 'STALKING',\n",
       "       'INTIMIDATION', 'OBSCENITY', 'HOMICIDE', 'PUBLIC INDECENCY',\n",
       "       'NON-CRIMINAL', 'OTHER NARCOTIC VIOLATION',\n",
       "       'NON-CRIMINAL (SUBJECT SPECIFIED)'], dtype=object)"
      ]
     },
     "execution_count": 177,
     "metadata": {},
     "output_type": "execute_result"
    }
   ],
   "source": [
    "pd.unique(crimes_correct['Primary Type'].values)"
   ]
  },
  {
   "cell_type": "code",
   "execution_count": null,
   "metadata": {},
   "outputs": [],
   "source": []
  }
 ],
 "metadata": {
  "kernelspec": {
   "display_name": "Python 3",
   "language": "python",
   "name": "python3"
  },
  "language_info": {
   "codemirror_mode": {
    "name": "ipython",
    "version": 3
   },
   "file_extension": ".py",
   "mimetype": "text/x-python",
   "name": "python",
   "nbconvert_exporter": "python",
   "pygments_lexer": "ipython3",
   "version": "3.6.2"
  }
 },
 "nbformat": 4,
 "nbformat_minor": 2
}
