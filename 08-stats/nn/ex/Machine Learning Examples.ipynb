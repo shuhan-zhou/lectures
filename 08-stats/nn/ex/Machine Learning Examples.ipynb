{
 "cells": [
  {
   "cell_type": "code",
   "execution_count": null,
   "metadata": {
    "collapsed": false,
    "scrolled": true
   },
   "outputs": [],
   "source": [
    "import numpy as np\n",
    "import matplotlib.pyplot as plt\n",
    "\n",
    "from sklearn import tree, neural_network, neighbors, discriminant_analysis\n",
    "\n",
    "from mva_helper import * # my helper functions\n",
    "\n",
    "%matplotlib inline\n",
    "plt.rcParams['figure.figsize'] = (4, 4) # set default size of plots\n",
    "plt.rcParams['image.interpolation'] = 'nearest'\n",
    "plt.rcParams['image.cmap'] = 'gray'\n",
    "\n",
    "# for auto-reloading extenrnal modules\n",
    "# see http://stackoverflow.com/questions/1907993/autoreload-of-modules-in-ipython\n",
    "%load_ext autoreload\n",
    "%autoreload 2"
   ]
  },
  {
   "cell_type": "markdown",
   "metadata": {},
   "source": [
    "## Discrimination in a Single Dimension"
   ]
  },
  {
   "cell_type": "markdown",
   "metadata": {},
   "source": [
    "### 1D Gaussian Discriminant "
   ]
  },
  {
   "cell_type": "code",
   "execution_count": null,
   "metadata": {
    "collapsed": false
   },
   "outputs": [],
   "source": [
    "figure = plt.figure()\n",
    "ax = plt.gca()\n",
    "\n",
    "a = np.random.normal(loc = -1, scale = 2, size = 10000)\n",
    "b = np.random.normal(loc = 3, scale = 1, size = 10000)\n",
    "\n",
    "r = np.min([a.min(), b.min()]), np.max([a.max(), b.max()])\n",
    "\n",
    "plt.hist([a, b], bins=30, range=r, histtype = 'step', color = [\"b\", \"r\"], label = [\"Category 1\", \"Category 2\"], alpha = 1.0)\n",
    "plt.legend(loc = \"upper left\", frameon=False)\n",
    "\n",
    "ax.set_xlabel(\"Gaussian Discriminants\")\n",
    "figure.savefig('gaus_discr.pdf', bbox_inches='tight', pad_inches=0.1)\n",
    "plt.show()"
   ]
  },
  {
   "cell_type": "markdown",
   "metadata": {},
   "source": [
    "### ROC Curve"
   ]
  },
  {
   "cell_type": "code",
   "execution_count": null,
   "metadata": {
    "collapsed": false
   },
   "outputs": [],
   "source": [
    "cut = np.linspace(-6, 6, 500)\n",
    "eff = np.array([np.mean(a < c) for c in cut])\n",
    "rej = np.array([np.mean(b > c) for c in cut])\n",
    "\n",
    "figure = plt.figure()\n",
    "ax = plt.gca()\n",
    "\n",
    "plt.plot(eff, rej, c = \"k\")\n",
    "ax.set_xlim(0, 1.07)\n",
    "ax.set_ylim(0, 1.07)\n",
    "\n",
    "ax.set_xlabel('Blue Efficiency', color = \"b\")\n",
    "ax.set_ylabel('Red Rejection', color = \"r\")\n",
    "\n",
    "plt.scatter([1], [1], c = \"b\", s = 200, marker = \"*\", linewidth = 0)\n",
    "\n",
    "figure.savefig('gaus_roc.pdf', bbox_inches='tight', pad_inches=0.1)\n",
    "\n",
    "plt.show()"
   ]
  },
  {
   "cell_type": "markdown",
   "metadata": {},
   "source": [
    "## Principal Component Analysis and Linear Discriminant Analysis"
   ]
  },
  {
   "cell_type": "code",
   "execution_count": null,
   "metadata": {
    "collapsed": true
   },
   "outputs": [],
   "source": [
    "from sklearn import decomposition, discriminant_analysis"
   ]
  },
  {
   "cell_type": "code",
   "execution_count": null,
   "metadata": {
    "collapsed": false
   },
   "outputs": [],
   "source": [
    "X, y = blob_data(X = 1, Y = 1, noise_level = 0.35, correlated = 0.75)\n",
    "y[X[:,0] > 0] = 1\n",
    "\n",
    "plot_classifier(X, y)"
   ]
  },
  {
   "cell_type": "code",
   "execution_count": null,
   "metadata": {
    "collapsed": false
   },
   "outputs": [],
   "source": [
    "pca = decomposition.PCA(n_components = 2)\n",
    "X_r = pca.fit(X).transform(X)\n",
    "print('explained variance ratio (first two components): ' + str(pca.explained_variance_ratio_))\n",
    "\n",
    "plt.figure()\n",
    "plt.scatter(X_r[:, 0], X_r[:, 1], c = y, alpha=.8, cmap=plt.cm.viridis)\n",
    "plt.show()"
   ]
  },
  {
   "cell_type": "markdown",
   "metadata": {},
   "source": [
    "### Create a Series of Blobs, Overlapping in x and y."
   ]
  },
  {
   "cell_type": "code",
   "execution_count": null,
   "metadata": {
    "collapsed": false
   },
   "outputs": [],
   "source": [
    "X, y = blob_data(X = 2, Y = 4, noise_level = 0.25, correlated = 0.8)\n",
    "K = len(set(y))\n",
    "\n",
    "cm = [plt.cm.viridis(v) for v in np.linspace(0, 1, K)]"
   ]
  },
  {
   "cell_type": "code",
   "execution_count": null,
   "metadata": {
    "collapsed": false
   },
   "outputs": [],
   "source": [
    "lda = discriminant_analysis.LinearDiscriminantAnalysis(n_components = 2)\n",
    "lda.fit(X, y)\n",
    "\n",
    "plot_classifier(X, y, fn = lda.predict, file = \"lda_classifier.pdf\")"
   ]
  },
  {
   "cell_type": "code",
   "execution_count": null,
   "metadata": {
    "collapsed": false
   },
   "outputs": [],
   "source": [
    "X_r2 = lda.fit(X, y)\n",
    "X_r2 = lda.transform(X)\n",
    "\n",
    "fig = plt.figure()\n",
    "plt.scatter(X_r2[:, 0], X_r2[:, 1], c=y, s=40, cmap=plt.cm.viridis, alpha = 0.2, linewidth = 0.1)\n",
    "fig.savefig('lda_transf.pdf', bbox_inches='tight', pad_inches=0.1)\n",
    "plt.show()\n",
    "\n",
    "fig = plt.figure()\n",
    "ax = plt.gca()\n",
    "\n",
    "ax.hist([X_r2[y == c, 0] for c in range(K)], \n",
    "        bins=30, histtype = 'step', color = cm, alpha = 1.0)\n",
    "fig.savefig('lda_project.pdf', bbox_inches='tight', pad_inches=0.1)\n",
    "\n",
    "plt.show()"
   ]
  },
  {
   "cell_type": "code",
   "execution_count": null,
   "metadata": {
    "collapsed": false
   },
   "outputs": [],
   "source": [
    "# Define blob data with 2×2\n",
    "X, y = blob_data(X = 2, Y = 2, noise_level = 0.25, correlated = 0.8)\n",
    "K = len(set(y))\n",
    "\n",
    "cm = [plt.cm.viridis(v) for v in np.linspace(0, 1, K)]\n",
    "\n",
    "# create the LDA and fit it to data\n",
    "lda = discriminant_analysis.LinearDiscriminantAnalysis()\n",
    "lda.fit(X, y)\n",
    "\n",
    "# plot it, using my function\n",
    "plot_classifier(X, y, fn = lda.predict, file = \"lda_classifier2.pdf\")\n",
    "X_r2 = lda.fit(X, y)\n",
    "X_r2 = lda.transform(X)\n",
    "\n",
    "fig = plt.figure()\n",
    "plt.scatter(X_r2[:, 0], X_r2[:, 1], c=y, s=40, cmap=plt.cm.viridis, alpha = 0.2, linewidth = 0.1)\n",
    "fig.savefig('lda_transf2.pdf', bbox_inches='tight', pad_inches=0.1)\n",
    "plt.show()\n",
    "\n",
    "fig = plt.figure()\n",
    "ax = plt.gca()\n",
    "\n",
    "ax.hist([X_r2[y == c, 0] for c in range(K)], \n",
    "        bins=30, histtype = 'step', color = cm, alpha = 1.0)\n",
    "fig.savefig('lda_project2.pdf', bbox_inches='tight', pad_inches=0.1)\n",
    "\n",
    "plt.show()"
   ]
  },
  {
   "cell_type": "code",
   "execution_count": null,
   "metadata": {
    "collapsed": false
   },
   "outputs": [],
   "source": [
    "X, y = spiral_data(K = 6, noise_level = 0.2)\n",
    "\n",
    "lda = discriminant_analysis.LinearDiscriminantAnalysis(n_components = 2)\n",
    "lda.fit(X, y)\n",
    "\n",
    "plot_classifier(X[::5,], y[::5], fn = lda.predict, file = \"lda_lollypop.pdf\", alpha = 0.3)"
   ]
  },
  {
   "cell_type": "markdown",
   "metadata": {},
   "source": [
    "## In the real world...\n",
    "\n",
    "You wouldn't write your own classifier (without a _lot_ more practice).\n",
    "\n",
    "[scikit learn](http://scikit-learn.org/) implements many of the \"standard\" classification algorithms.  Let's see what these look like.  \n",
    "\n",
    "BUT: _be careful!_  This is an incredibly powerful tool, and one that is very easy to misuse.  Check (but do not tune) to your test sample, use well-understood input variables.  And understand who/what you're selecting."
   ]
  },
  {
   "cell_type": "markdown",
   "metadata": {},
   "source": [
    "## Nearest Neighbors and Overtraining"
   ]
  },
  {
   "cell_type": "code",
   "execution_count": null,
   "metadata": {
    "collapsed": true
   },
   "outputs": [],
   "source": [
    "X, y = blob_data(noise_level = 0.5, correlated = 0.5, N = 200)\n",
    "# X, y = spiral_data(K = 7, N = 30, noise_level = 0.3)"
   ]
  },
  {
   "cell_type": "code",
   "execution_count": null,
   "metadata": {
    "collapsed": false
   },
   "outputs": [],
   "source": [
    "knn = neighbors.KNeighborsClassifier(1, weights=\"uniform\")\n",
    "\n",
    "knn.fit(X, y)\n",
    "plot_classifier(X[:,], y[:], fn = knn.predict, alpha = 0.4, h = 0.01, file = \"knn_overtrained.pdf\")\n",
    "\n",
    "knn = neighbors.KNeighborsClassifier(30, weights=\"uniform\")\n",
    "\n",
    "knn.fit(X, y)\n",
    "plot_classifier(X[:,], y[:], fn = knn.predict, alpha = 0.4, h = 0.01, file = \"knn_k30.pdf\")"
   ]
  },
  {
   "cell_type": "code",
   "execution_count": null,
   "metadata": {
    "collapsed": false
   },
   "outputs": [],
   "source": [
    "# X, y = blob_data(X = 2, Y = 2, N = 1000, noise_level = 0.5, correlated = 0.6)\n",
    "X, y = spiral_data(K = 5, noise_level = 0.4, N = 1000)\n",
    "\n",
    "bdt = tree.DecisionTreeClassifier(min_samples_leaf = 1)\n",
    "bdt.fit(X, y)\n",
    "\n",
    "plot_classifier(X[::,], y[::], fn = bdt.predict, alpha = 0.4, alpha_pt = 0.06, file = \"bdt_overtrained.pdf\")\n",
    "\n",
    "bdt = tree.DecisionTreeClassifier(min_samples_leaf = 15)\n",
    "bdt.fit(X, y)\n",
    "\n",
    "plot_classifier(X[::,], y[::], fn = bdt.predict, alpha = 0.4, alpha_pt = 0.06, file = \"bdt_leaf15.pdf\")\n",
    "\n",
    "\n",
    "import pydotplus\n",
    "from IPython.display import Image  \n",
    "dot_data = tree.export_graphviz(bdt, out_file=None, filled=True, rounded=True, special_characters=True) \n",
    "graph = pydotplus.graph_from_dot_data(dot_data)  \n",
    "graph.write_pdf(\"bdt_graph.pdf\") \n",
    "Image(graph.create_png())  "
   ]
  },
  {
   "cell_type": "code",
   "execution_count": null,
   "metadata": {
    "collapsed": false
   },
   "outputs": [],
   "source": [
    "X, y = spiral_data(K = 5, noise_level = 0.3, N = 1000)\n",
    "# X, y = blob_data(X = 2, Y = 2, N = 1000, noise_level = 0.5, correlated = 0.6)\n",
    "\n",
    "mlp = neural_network.MLPClassifier(solver='lbfgs', alpha = 10, random_state=1, hidden_layer_sizes=(100))\n",
    "mlp.fit(X, y)\n",
    "\n",
    "plot_classifier(X[:,], y[:], fn = mlp.predict, alpha = 0.4, alpha_pt = 0.05, file = \"mlp_classifier.pdf\")"
   ]
  },
  {
   "cell_type": "markdown",
   "metadata": {},
   "source": [
    "## Test Samples and Overtraining"
   ]
  },
  {
   "cell_type": "code",
   "execution_count": null,
   "metadata": {
    "collapsed": true
   },
   "outputs": [],
   "source": [
    "Xtr, ytr = spiral_data(K = 5, noise_level = 0.6, N = 50)\n",
    "Xte, yte = spiral_data(K = 5, noise_level = 0.6, N = 1000)"
   ]
  },
  {
   "cell_type": "code",
   "execution_count": null,
   "metadata": {
    "collapsed": false
   },
   "outputs": [],
   "source": [
    "alpha = [1e-4, 1e-3, 0.05, 0.1, 0.2, 0.4, 0.6, 0.8, 1, 2, 3, 4, 5]\n",
    "tr_acc, te_acc = [], []\n",
    "for a in alpha:\n",
    "    mlp = neural_network.MLPClassifier(solver='lbfgs', alpha = a, random_state=1, hidden_layer_sizes=(100))\n",
    "    mlp.fit(Xtr, ytr)\n",
    "    \n",
    "    tr_acc.append(np.mean(mlp.predict(Xtr) == ytr))\n",
    "    te_acc.append(np.mean(mlp.predict(Xte) == yte))"
   ]
  },
  {
   "cell_type": "code",
   "execution_count": null,
   "metadata": {
    "collapsed": false
   },
   "outputs": [],
   "source": [
    "figure = plt.figure()\n",
    "ax = plt.gca()\n",
    "\n",
    "plt.semilogx(alpha, tr_acc, c = \"g\", label = \"Training\")\n",
    "plt.semilogx(alpha, te_acc, c = \"r\", label = \"Test\")\n",
    "# ax.set_xlim(0, 1.07)\n",
    "ax.set_ylim(0.6, 0.86)\n",
    "\n",
    "ax.set_xlabel('Regularization')\n",
    "ax.set_ylabel('Accuracy')\n",
    "\n",
    "plt.legend(frameon=False)\n",
    "\n",
    "figure.savefig('regularization.pdf', bbox_inches='tight', pad_inches=0.1)\n",
    "\n",
    "plt.show()"
   ]
  },
  {
   "cell_type": "code",
   "execution_count": null,
   "metadata": {
    "collapsed": false
   },
   "outputs": [],
   "source": [
    "Xte, yte = spiral_data(K = 5, noise_level = 0.6, N = 5000)\n",
    "\n",
    "Ntrain = np.array([4, 6, 8, 10, 20, 30, 40, 50, 60, 80, 90, 100, 120, 150, 200, 300, 400, 500, 1000, 2000, 3000, 4000])\n",
    "tr_acc, te_acc = [], []\n",
    "\n",
    "for N in Ntrain:\n",
    "\n",
    "    Xtr, ytr = spiral_data(K = 5, noise_level = 0.6, N = N)\n",
    "\n",
    "    mlp = neural_network.MLPClassifier(solver='lbfgs', alpha = 0.1, random_state=1, hidden_layer_sizes=(100))\n",
    "    mlp.fit(Xtr, ytr)\n",
    "    \n",
    "    tr_acc.append(np.mean(mlp.predict(Xtr[:,:]) == ytr[:]))\n",
    "    te_acc.append(np.mean(mlp.predict(Xte) == yte))\n",
    "    print(N, tr_acc[-1], te_acc[-1])\n",
    "    \n",
    "print(tr_acc)\n",
    "print(te_acc)"
   ]
  },
  {
   "cell_type": "code",
   "execution_count": null,
   "metadata": {
    "collapsed": false
   },
   "outputs": [],
   "source": [
    "figure = plt.figure()\n",
    "ax = plt.gca()\n",
    "\n",
    "plt.semilogx(Ntrain * 5, tr_acc, c = \"g\", label = \"Training\")\n",
    "plt.semilogx(Ntrain * 5, te_acc, c = \"r\", label = \"Test\")\n",
    "ax.set_xlim(10, 40000)\n",
    "ax.set_ylim(0.3, 0.9)\n",
    "\n",
    "ax.set_xlabel('Training Size')\n",
    "ax.set_ylabel('Accuracy')\n",
    "\n",
    "plt.legend(frameon=False)\n",
    "\n",
    "figure.savefig('training_size.pdf', bbox_inches='tight', pad_inches=0.1)\n",
    "\n",
    "plt.show()"
   ]
  },
  {
   "cell_type": "code",
   "execution_count": null,
   "metadata": {
    "collapsed": false
   },
   "outputs": [],
   "source": [
    "X, y = blob_data(X = 5, Y = 5, max_K = 2, noise_level = 0.05, correlated = 0, N = 500)\n",
    "\n",
    "mlp = neural_network.MLPClassifier(solver='lbfgs', alpha = 1e-2, random_state=1, hidden_layer_sizes=(100))\n",
    "mlp.fit(X, y)\n",
    "\n",
    "plot_classifier(X[:,], y[:], fn = mlp.predict, alpha = 0.4, alpha_pt = 0.01, file = \"checkers_mlp.pdf\")"
   ]
  },
  {
   "cell_type": "code",
   "execution_count": null,
   "metadata": {
    "collapsed": false
   },
   "outputs": [],
   "source": [
    "X, y = blob_data(X = 5, Y = 5, max_K = 2, noise_level = 0.05, correlated = 0, N = 500)\n",
    "\n",
    "bdt = tree.DecisionTreeClassifier(min_samples_leaf = 15)\n",
    "bdt.fit(X, y)\n",
    "\n",
    "plot_classifier(X[:,], y[:], fn = bdt.predict, alpha = 0.4, alpha_pt = 0.01, file = \"checkers_bdt.pdf\")"
   ]
  },
  {
   "cell_type": "code",
   "execution_count": null,
   "metadata": {
    "collapsed": true
   },
   "outputs": [],
   "source": []
  }
 ],
 "metadata": {
  "anaconda-cloud": {},
  "kernelspec": {
   "display_name": "Python [conda root]",
   "language": "python",
   "name": "conda-root-py"
  },
  "language_info": {
   "codemirror_mode": {
    "name": "ipython",
    "version": 3
   },
   "file_extension": ".py",
   "mimetype": "text/x-python",
   "name": "python",
   "nbconvert_exporter": "python",
   "pygments_lexer": "ipython3",
   "version": "3.5.2"
  }
 },
 "nbformat": 4,
 "nbformat_minor": 0
}
